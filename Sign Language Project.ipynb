{
 "cells": [
  {
   "cell_type": "code",
   "execution_count": 1,
   "id": "cf8ceffc",
   "metadata": {},
   "outputs": [
    {
     "name": "stdout",
     "output_type": "stream",
     "text": [
      "Defaulting to user installation because normal site-packages is not writeable\n",
      "Collecting pyserial\n",
      "  Using cached pyserial-3.5-py2.py3-none-any.whl (90 kB)\n",
      "Installing collected packages: pyserial\n",
      "Successfully installed pyserial-3.5\n"
     ]
    },
    {
     "name": "stderr",
     "output_type": "stream",
     "text": [
      "  WARNING: The scripts pyserial-miniterm.exe and pyserial-ports.exe are installed in 'C:\\Users\\rezwa\\AppData\\Roaming\\Python\\Python39\\Scripts' which is not on PATH.\n",
      "  Consider adding this directory to PATH or, if you prefer to suppress this warning, use --no-warn-script-location.\n"
     ]
    }
   ],
   "source": [
    "!pip install pyserial"
   ]
  },
  {
   "cell_type": "code",
   "execution_count": 1,
   "id": "5f44fde4",
   "metadata": {},
   "outputs": [
    {
     "name": "stdout",
     "output_type": "stream",
     "text": [
      "Defaulting to user installation because normal site-packages is not writeable\n",
      "Requirement already satisfied: pydub in c:\\users\\rezwa\\appdata\\roaming\\python\\python39\\site-packages (0.25.1)\n"
     ]
    }
   ],
   "source": [
    "!pip install pydub"
   ]
  },
  {
   "cell_type": "code",
   "execution_count": 1,
   "id": "452cea7c",
   "metadata": {},
   "outputs": [
    {
     "name": "stdout",
     "output_type": "stream",
     "text": [
      "pygame 2.1.2 (SDL 2.0.18, Python 3.9.13)\n",
      "Hello from the pygame community. https://www.pygame.org/contribute.html\n"
     ]
    }
   ],
   "source": [
    "import serial\n",
    "import time\n",
    "from gtts import gTTS\n",
    "import os\n",
    "\n",
    "import time\n",
    "from pygame import mixer\n",
    "from tempfile import TemporaryFile\n",
    "from io import BytesIO\n",
    "from pydub import AudioSegment\n",
    "language = 'bn'\n",
    "\n"
   ]
  },
  {
   "cell_type": "code",
   "execution_count": 2,
   "id": "266c0aba",
   "metadata": {},
   "outputs": [],
   "source": [
    "arr_low = [325, 350, 420]\n",
    "arr_high = [580, 536, 620]"
   ]
  },
  {
   "cell_type": "code",
   "execution_count": 3,
   "id": "bf193edf",
   "metadata": {},
   "outputs": [],
   "source": [
    "def speak(word_inp):\n",
    "    fp = BytesIO()\n",
    "    wav_fp = BytesIO()\n",
    "    tts = gTTS(text=word_inp, lang=language, slow=False)\n",
    "    tts.write_to_fp(fp)\n",
    "    fp.seek(0)\n",
    "    sound = AudioSegment.from_file(fp)\n",
    "    wav_fp = sound.export(fp, format=\"wav\")\n",
    "    mixer.init()\n",
    "    mixer.music.load(wav_fp)\n",
    "    mixer.music.play()\n",
    "    while mixer.music.get_busy():  # wait for music to finish playing\n",
    "        time.sleep(1)\n",
    "\n",
    "\n",
    "def LowCheck(inp, ind):\n",
    "    if inp > (arr_low[ind]-50) and inp < (arr_low[ind]+90):\n",
    "        return True\n",
    "    return False\n",
    "\n",
    "\n",
    "def HighCheck(inp, ind):\n",
    "    if inp > (arr_high[ind]-50) and inp < (arr_high[ind]+90):\n",
    "        return True\n",
    "    return False\n",
    "\n"
   ]
  },
  {
   "cell_type": "code",
   "execution_count": 4,
   "id": "b57abe00",
   "metadata": {},
   "outputs": [],
   "source": [
    "serialcomm = serial.Serial('COM4', 9600)\n",
    "serialcomm.timeout = 1\n",
    "time.sleep(2)"
   ]
  },
  {
   "cell_type": "code",
   "execution_count": null,
   "id": "3efb7e18",
   "metadata": {},
   "outputs": [],
   "source": [
    "def retrieveData():\n",
    "    serialcomm.write(b'1')\n",
    "    data = serialcomm.readline().decode('ascii')\n",
    "    return data\n",
    "\n",
    "while(True):\n",
    "    uInput = input(\"retrieve data?\")\n",
    "    if uInput == '1':\n",
    "        print(retrieveData())\n",
    "        hello = int(retrieveData());\n",
    "        if(hello > 650):\n",
    "#             print(hello)\n",
    "            sen = 'এখন নিচের দিকে আছে'\n",
    "            speak(sen)\n",
    "            \n",
    "        else:\n",
    "            sen = 'এখন উপরের দিকে আছে'\n",
    "            speak(sen)\n",
    "        \n",
    "serialcomm.close()\n",
    "        "
   ]
  },
  {
   "cell_type": "code",
   "execution_count": null,
   "id": "ff7dc337",
   "metadata": {},
   "outputs": [],
   "source": [
    "word = \"\"\n",
    "pre = '0'\n",
    "cou = 0\n",
    "sen = ''\n",
    "while True:\n",
    "    i = \"1\"\n",
    "    serialcomm.write(b'1')\n",
    "    out = serialcomm.readline().decode(\"ascii\")\n",
    "    if(out != \"\"):\n",
    "        my_list = []\n",
    "        pre_list = list(out.split(','))\n",
    "        for i in pre_list:\n",
    "            my_list.append(int(i))\n",
    "            \n",
    "        print(my_list)\n",
    "        if(LowCheck(my_list[0], 0) and LowCheck(my_list[1], 1) and HighCheck(my_list[2], 2) ):\n",
    "            print('ashse আ')\n",
    "            if pre == 'আ':\n",
    "                cou += 1\n",
    "                if cou > 3:\n",
    "                    if len(word.strip())==0:\n",
    "                        word += 'আ'\n",
    "                    else:\n",
    "                        word += 'া'\n",
    "                    print(word)\n",
    "                    #speak(word)\n",
    "                    pre = '0'\n",
    "                    cou = 0\n",
    "            else:\n",
    "                pre = 'আ'\n",
    "                cou = 1\n",
    "        elif(LowCheck(my_list[0], 0) and HighCheck(my_list[1], 1) and LowCheck(my_list[2], 2) ):\n",
    "            print('ashse ই')\n",
    "            if pre == 'ই':\n",
    "                cou += 1\n",
    "                if cou > 3:\n",
    "                    if len(word.strip())==0:\n",
    "                        word += 'ই'\n",
    "                    else:\n",
    "                        word += 'ি'\n",
    "                    print(word)\n",
    "                    #speak(word)\n",
    "                    pre = '0'\n",
    "                    cou = 0\n",
    "            else:\n",
    "                pre = 'ই'\n",
    "                cou = 1\n",
    "        elif(LowCheck(my_list[0], 0) and HighCheck(my_list[1], 1) and HighCheck(my_list[2], 2) ):\n",
    "            print('ashse উ')\n",
    "            if pre == 'উ':\n",
    "                cou += 1\n",
    "                if cou > 3:\n",
    "                    if len(word.strip())==0:\n",
    "                        word += 'উ'\n",
    "                    else:\n",
    "                        word += 'ু'\n",
    "                    print(word)\n",
    "                    #speak(word)\n",
    "                    pre = '0'\n",
    "                    cou = 0\n",
    "            else:\n",
    "                pre = 'উ'\n",
    "                cou = 1\n",
    "        elif(HighCheck(my_list[0], 0) and LowCheck(my_list[1], 1) and LowCheck(my_list[2], 2) ):\n",
    "            print('ashse এ')\n",
    "            if pre == 'এ':\n",
    "                cou += 1\n",
    "                if cou > 3:\n",
    "                    if len(word.strip())==0:\n",
    "                        word += 'এ'\n",
    "                    else:\n",
    "                        word += 'এ'\n",
    "                    print(word)\n",
    "                    #speak(word)\n",
    "                    pre = '0'\n",
    "                    cou = 0\n",
    "            else:\n",
    "                pre = 'এ'\n",
    "                cou = 1\n",
    "        elif(HighCheck(my_list[0], 0) and LowCheck(my_list[1], 1) and HighCheck(my_list[2], 2)):\n",
    "            print('ashse স')\n",
    "            if pre == 'স':\n",
    "                cou += 1\n",
    "                if cou > 3:\n",
    "                    word += 'স'\n",
    "                    print(word)\n",
    "                    #speak(word)\n",
    "                    pre = '0'\n",
    "                    cou = 0\n",
    "            else:\n",
    "                pre = 'স'\n",
    "                cou = 1\n",
    "        elif(HighCheck(my_list[0], 0) and HighCheck(my_list[1], 1) and LowCheck(my_list[2], 2) ):\n",
    "            print('ashse দ')\n",
    "            if pre == 'দ':\n",
    "                cou += 1\n",
    "                if cou > 3:\n",
    "                    word += 'দ'\n",
    "                    print(word)\n",
    "                    #speak(word)\n",
    "                    pre = '0'\n",
    "                    cou = 0\n",
    "            else:\n",
    "                pre = 'দ'\n",
    "                cou = 1\n",
    "        \n",
    "        \n",
    "        \n",
    "        \n",
    "        elif(LowCheck(my_list[0], 0) and LowCheck(my_list[1], 1) and LowCheck(my_list[2], 2) ):\n",
    "            print('DONE')\n",
    "            if pre == 'done':\n",
    "                cou += 1\n",
    "                if cou > 3 and cou < 6:\n",
    "                    print(word)\n",
    "                    #speak(word)\n",
    "                    sen += word\n",
    "                    sen += ' '\n",
    "                    word = ''\n",
    "                elif cou >= 6:\n",
    "                    speak(sen)\n",
    "                    sen = ''\n",
    "                    pre = '0'\n",
    "                    cou = 0\n",
    "            else:\n",
    "                pre = 'done'\n",
    "                cou = 1\n",
    "serialcomm.close()\n"
   ]
  },
  {
   "cell_type": "code",
   "execution_count": null,
   "id": "6f97c875",
   "metadata": {},
   "outputs": [],
   "source": [
    "  "
   ]
  }
 ],
 "metadata": {
  "kernelspec": {
   "display_name": "Python 3 (ipykernel)",
   "language": "python",
   "name": "python3"
  },
  "language_info": {
   "codemirror_mode": {
    "name": "ipython",
    "version": 3
   },
   "file_extension": ".py",
   "mimetype": "text/x-python",
   "name": "python",
   "nbconvert_exporter": "python",
   "pygments_lexer": "ipython3",
   "version": "3.9.13"
  }
 },
 "nbformat": 4,
 "nbformat_minor": 5
}
