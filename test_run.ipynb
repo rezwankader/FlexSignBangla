{
 "cells": [
  {
   "cell_type": "code",
   "execution_count": 1,
   "id": "2a3751e7",
   "metadata": {},
   "outputs": [
    {
     "name": "stdout",
     "output_type": "stream",
     "text": [
      "Defaulting to user installation because normal site-packages is not writeable\n",
      "Requirement already satisfied: pyserial in c:\\users\\rezwa\\appdata\\roaming\\python\\python39\\site-packages (3.5)\n"
     ]
    }
   ],
   "source": [
    "!pip install pyserial"
   ]
  },
  {
   "cell_type": "code",
   "execution_count": null,
   "id": "5159ccb9",
   "metadata": {},
   "outputs": [],
   "source": [
    "import serial\n",
    "\n",
    "ser = serial.Serial(\"COM5\", 9600, timeout = 1) #Change your port name COM... and your baudrate\n",
    "\n",
    "def retrieveData():\n",
    "    ser.write(b'1')\n",
    "    data = ser.readline().decode('ascii')\n",
    "    return data\n",
    "\n",
    "while(True):\n",
    "    uInput = input('Retrieve data:')\n",
    "    if uInput == '1':\n",
    "        print(retrieveData())\n",
    "    else:\n",
    "        ser.write(b'0')\n",
    "#     out = ser.readline().decode(\"ascii\")\n",
    "# #     print(out,end=\"\")\n",
    "#     print(out)\n",
    "    "
   ]
  },
  {
   "cell_type": "code",
   "execution_count": null,
   "id": "b3ac11ee",
   "metadata": {},
   "outputs": [],
   "source": []
  },
  {
   "cell_type": "code",
   "execution_count": null,
   "id": "be95f43e",
   "metadata": {},
   "outputs": [],
   "source": []
  }
 ],
 "metadata": {
  "kernelspec": {
   "display_name": "Python 3 (ipykernel)",
   "language": "python",
   "name": "python3"
  },
  "language_info": {
   "codemirror_mode": {
    "name": "ipython",
    "version": 3
   },
   "file_extension": ".py",
   "mimetype": "text/x-python",
   "name": "python",
   "nbconvert_exporter": "python",
   "pygments_lexer": "ipython3",
   "version": "3.9.13"
  }
 },
 "nbformat": 4,
 "nbformat_minor": 5
}
